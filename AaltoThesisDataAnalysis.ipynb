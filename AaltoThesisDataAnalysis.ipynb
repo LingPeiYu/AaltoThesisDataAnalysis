{
  "nbformat": 4,
  "nbformat_minor": 0,
  "metadata": {
    "colab": {
      "provenance": [],
      "authorship_tag": "ABX9TyNuULjdsnHtzl4t5f1pEQ41",
      "include_colab_link": true
    },
    "kernelspec": {
      "name": "python3",
      "display_name": "Python 3"
    },
    "language_info": {
      "name": "python"
    }
  },
  "cells": [
    {
      "cell_type": "markdown",
      "metadata": {
        "id": "view-in-github",
        "colab_type": "text"
      },
      "source": [
        "<a href=\"https://colab.research.google.com/github/LingPeiYu/AaltoThesisDataAnalysis/blob/main/AaltoThesisDataAnalysis.ipynb\" target=\"_parent\"><img src=\"https://colab.research.google.com/assets/colab-badge.svg\" alt=\"Open In Colab\"/></a>"
      ]
    },
    {
      "cell_type": "code",
      "execution_count": 2,
      "metadata": {
        "id": "w3u5k5bmM3bi"
      },
      "outputs": [],
      "source": [
        "#Polynomial Analysis\n",
        "%config Completer.use_jedi = False # enable code auto-completion\n",
        "import numpy as np #import numpy to work with arrays\n",
        "import pandas as pd #import pandas to manipulate the dataset\n",
        "from matplotlib import pyplot as plt #import the module matplotlib.pyplot to do visulization\n",
        "from sklearn.preprocessing import PolynomialFeatures # function to generate polynomial and interaction features\n",
        "from sklearn.linear_model import LinearRegression,LogisticRegression,HuberRegressor\n",
        "from sklearn.svm import SVC\n",
        "from sklearn.metrics import mean_squared_error, mean_absolute_error,accuracy_score # function to calculate mean squared error"
      ]
    },
    {
      "cell_type": "code",
      "source": [
        "RawData=pd.read_csv(\"BoardGames.csv\", engine=\"python\",encoding=\"ISO-8859-1\", error_bad_lines=False)\n",
        "\n",
        "# print the first 5 rows of the DataFrame 'FMIRawData'\n",
        "#FMIRawData.head(5)"
      ],
      "metadata": {
        "id": "_hheJDtdRl_u"
      },
      "execution_count": null,
      "outputs": []
    }
  ]
}