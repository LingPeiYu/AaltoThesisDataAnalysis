{
  "nbformat": 4,
  "nbformat_minor": 0,
  "metadata": {
    "colab": {
      "provenance": [],
      "authorship_tag": "ABX9TyNxiw+JGTCUytzxhi23MIAp",
      "include_colab_link": true
    },
    "kernelspec": {
      "name": "python3",
      "display_name": "Python 3"
    },
    "language_info": {
      "name": "python"
    }
  },
  "cells": [
    {
      "cell_type": "markdown",
      "metadata": {
        "id": "view-in-github",
        "colab_type": "text"
      },
      "source": [
        "<a href=\"https://colab.research.google.com/github/LingPeiYu/AaltoThesisDataAnalysis/blob/main/AaltoThesisDataAnalysis.ipynb\" target=\"_parent\"><img src=\"https://colab.research.google.com/assets/colab-badge.svg\" alt=\"Open In Colab\"/></a>"
      ]
    },
    {
      "cell_type": "markdown",
      "source": [
        "# Polynomial Regression Analysis"
      ],
      "metadata": {
        "id": "jJx8QwrB1iUr"
      }
    },
    {
      "cell_type": "code",
      "execution_count": 156,
      "metadata": {
        "id": "w3u5k5bmM3bi"
      },
      "outputs": [],
      "source": [
        "#Polynomial Regression Analysis\n",
        "%config Completer.use_jedi = False # enable code auto-completion\n",
        "import numpy as np #import numpy to work with arrays\n",
        "import pandas as pd #import pandas to manipulate the dataset\n",
        "from matplotlib import pyplot as plt #import the module matplotlib.pyplot to do visulization\n",
        "from sklearn.preprocessing import PolynomialFeatures,normalize,MinMaxScaler # function to generate polynomial and interaction features\n",
        "from sklearn.linear_model import LinearRegression,LogisticRegression,HuberRegressor\n",
        "from sklearn.svm import SVC\n",
        "from sklearn.metrics import mean_squared_error, mean_absolute_error,accuracy_score # function to calculate mean squared error\n",
        "from sklearn.model_selection import train_test_split"
      ]
    },
    {
      "cell_type": "code",
      "source": [
        "data1=pd.read_csv(\"2023-3-31-18-54-29.csv\", engine=\"python\",encoding=\"ISO-8859-1\", error_bad_lines=False)\n",
        "data2=pd.read_csv(\"2023-4-1-13-06-22.csv\", engine=\"python\",encoding=\"ISO-8859-1\", error_bad_lines=False)\n",
        "\n",
        "TestData=pd.concat([data1,data2],axis=0)\n",
        "\n",
        "# print the first 5 rows of the DataFrame 'RawData'\n",
        "print(type(TestData))\n",
        "#print how many rows in the 'RawData'\n",
        "print(len(TestData))\n",
        "\n",
        "print(TestData)"
      ],
      "metadata": {
        "colab": {
          "base_uri": "https://localhost:8080/"
        },
        "id": "_hheJDtdRl_u",
        "outputId": "13da22ba-b3f0-4777-d90c-7c51d3e2af71"
      },
      "execution_count": 157,
      "outputs": [
        {
          "output_type": "stream",
          "name": "stdout",
          "text": [
            "<class 'pandas.core.frame.DataFrame'>\n",
            "40\n",
            "    TestIndex  LevelIndex  Width  Length  ChessGroup  DataPieceCount  \\\n",
            "0           0           2     10      10       10023              10   \n",
            "1           1          14     10      10        1102              10   \n",
            "2           2           9     10      10          12              10   \n",
            "3           3          16     10      10        2004              10   \n",
            "4           4          18     10      10        2004              10   \n",
            "5           5           6     10      10         404              10   \n",
            "6           6          17     10      10        2004              10   \n",
            "7           7           7     10      10         404              10   \n",
            "8           8          12     10      10        1102              10   \n",
            "9           9           5     10      10         404              10   \n",
            "10         10           4     10      10         404              10   \n",
            "11         11          15     10      10        1102              10   \n",
            "12         12           0     10      10       10023              10   \n",
            "13         13          13     10      10        1102              10   \n",
            "14         14          19     10      10        2004              10   \n",
            "15         15          10     10      10          12              10   \n",
            "16         16           1     10      10       10023              10   \n",
            "17         17           3     10      10       10023              10   \n",
            "18         18           8     10      10          12              10   \n",
            "19         19          11     10      10          12              10   \n",
            "0           0          19     10      10        2004              10   \n",
            "1           1          18     10      10        2004              10   \n",
            "2           2           6     10      10         404              10   \n",
            "3           3          13     10      10        1102              10   \n",
            "4           4           4     10      10         404              10   \n",
            "5           5           7     10      10         404              10   \n",
            "6           6           2     10      10       10023              10   \n",
            "7           7           9     10      10          12              10   \n",
            "8           8          10     10      10          12              10   \n",
            "9           9          11     10      10          12              10   \n",
            "10         10           5     10      10         404              10   \n",
            "11         11          16     10      10        2004              10   \n",
            "12         12           3     10      10       10023              10   \n",
            "13         13          12     10      10        1102              10   \n",
            "14         14           0     10      10       10023              10   \n",
            "15         15          17     10      10        2004              10   \n",
            "16         16          15     10      10        1102              10   \n",
            "17         17           8     10      10          12              10   \n",
            "18         18          14     10      10        1102              10   \n",
            "19         19           1     10      10       10023              10   \n",
            "\n",
            "    TargetStep  StepRange(+-)  AIBestStep      GenerationTime  FailureCount  \\\n",
            "0           35              5          36  2023-3-17-12-00-00            10   \n",
            "1           35              5          33  2023-3-29-21-25-59             1   \n",
            "2           25              5          29   2023-3-29-0-44-31             0   \n",
            "3           15              5          18  2023-3-29-11-19-13             1   \n",
            "4           35              5          32  2023-3-29-11-51-20             1   \n",
            "5           35              5          32  2023-3-18-13-04-08            10   \n",
            "6           25              5          27  2023-3-29-11-38-49             1   \n",
            "7           45              5          41  2023-3-18-15-11-31            30   \n",
            "8           15              5          19  2023-3-29-20-55-30             3   \n",
            "9           25              5          27  2023-3-18-12-51-35            46   \n",
            "10          15              5          18  2023-3-18-11-03-06             0   \n",
            "11          45              5          41   2023-3-30-0-46-15             7   \n",
            "12          15              5          15   2023-3-17-6-42-03             9   \n",
            "13          25              5          26  2023-3-29-21-18-07             0   \n",
            "14          45              5          41  2023-3-29-19-57-14             5   \n",
            "15          35              5          33   2023-3-29-1-03-17             0   \n",
            "16          25              5          22  2023-3-17-10-35-54            11   \n",
            "17          45              5          42   2023-3-17-0-05-31            25   \n",
            "18          15              5          19   2023-3-29-0-41-15             3   \n",
            "19          45              5          41  2023-3-29-10-11-29             0   \n",
            "0           45              5          41  2023-3-29-19-57-14             0   \n",
            "1           35              5          32  2023-3-29-11-51-20             1   \n",
            "2           35              5          32  2023-3-18-13-04-08             1   \n",
            "3           25              5          26  2023-3-29-21-18-07             0   \n",
            "4           15              5          18  2023-3-18-11-03-06             2   \n",
            "5           45              5          41  2023-3-18-15-11-31             4   \n",
            "6           35              5          36  2023-3-17-12-00-00             3   \n",
            "7           25              5          29   2023-3-29-0-44-31             0   \n",
            "8           35              5          33   2023-3-29-1-03-17             0   \n",
            "9           45              5          41  2023-3-29-10-11-29             0   \n",
            "10          25              5          27  2023-3-18-12-51-35            14   \n",
            "11          15              5          18  2023-3-29-11-19-13             0   \n",
            "12          45              5          42   2023-3-17-0-05-31             8   \n",
            "13          15              5          19  2023-3-29-20-55-30             0   \n",
            "14          15              5          15   2023-3-17-6-42-03             0   \n",
            "15          25              5          27  2023-3-29-11-38-49             0   \n",
            "16          45              5          41   2023-3-30-0-46-15             3   \n",
            "17          15              5          19   2023-3-29-0-41-15             0   \n",
            "18          35              5          33  2023-3-29-21-25-59             1   \n",
            "19          25              5          22  2023-3-17-10-35-54             1   \n",
            "\n",
            "    SuccessStep  PercivedDifficulty  \n",
            "0            29                   7  \n",
            "1            29                   3  \n",
            "2            26                   1  \n",
            "3            21                   2  \n",
            "4            30                   3  \n",
            "5            38                   6  \n",
            "6            33                   2  \n",
            "7            46                   7  \n",
            "8            17                   1  \n",
            "9            39                   7  \n",
            "10           15                   2  \n",
            "11           33                   4  \n",
            "12           17                   3  \n",
            "13           24                   1  \n",
            "14           32                   3  \n",
            "15           29                   1  \n",
            "16           22                   4  \n",
            "17           35                   7  \n",
            "18           21                   1  \n",
            "19           30                   2  \n",
            "0            57                   4  \n",
            "1            30                   4  \n",
            "2            36                   3  \n",
            "3            23                   3  \n",
            "4            23                   4  \n",
            "5            43                   5  \n",
            "6            51                   6  \n",
            "7            43                   2  \n",
            "8            37                   2  \n",
            "9            30                   2  \n",
            "10           62                   6  \n",
            "11           27                   3  \n",
            "12           33                   5  \n",
            "13           30                   2  \n",
            "14           17                   2  \n",
            "15           47                   2  \n",
            "16           37                   3  \n",
            "17           19                   1  \n",
            "18           45                   3  \n",
            "19           61                   3  \n"
          ]
        },
        {
          "output_type": "stream",
          "name": "stderr",
          "text": [
            "<ipython-input-157-665dd17186c4>:1: FutureWarning: The error_bad_lines argument has been deprecated and will be removed in a future version. Use on_bad_lines in the future.\n",
            "\n",
            "\n",
            "  data1=pd.read_csv(\"2023-3-31-18-54-29.csv\", engine=\"python\",encoding=\"ISO-8859-1\", error_bad_lines=False)\n",
            "<ipython-input-157-665dd17186c4>:2: FutureWarning: The error_bad_lines argument has been deprecated and will be removed in a future version. Use on_bad_lines in the future.\n",
            "\n",
            "\n",
            "  data2=pd.read_csv(\"2023-4-1-13-06-22.csv\", engine=\"python\",encoding=\"ISO-8859-1\", error_bad_lines=False)\n"
          ]
        }
      ]
    },
    {
      "cell_type": "code",
      "source": [
        "TestData.columns"
      ],
      "metadata": {
        "colab": {
          "base_uri": "https://localhost:8080/"
        },
        "id": "NDOkVScwYaEF",
        "outputId": "d140e57c-1b99-46f2-a57b-a0e989ddc26d"
      },
      "execution_count": 158,
      "outputs": [
        {
          "output_type": "execute_result",
          "data": {
            "text/plain": [
              "Index(['TestIndex', 'LevelIndex', 'Width', 'Length', 'ChessGroup',\n",
              "       'DataPieceCount', 'TargetStep', 'StepRange(+-)', 'AIBestStep',\n",
              "       'GenerationTime', 'FailureCount', 'SuccessStep', 'PercivedDifficulty'],\n",
              "      dtype='object')"
            ]
          },
          "metadata": {},
          "execution_count": 158
        }
      ]
    },
    {
      "cell_type": "code",
      "source": [
        "TestData=TestData.assign(KingCount=TestData['ChessGroup']//100000)\n",
        "TestData=TestData.assign(QueenCount=TestData['ChessGroup']%100000//10000)\n",
        "TestData=TestData.assign(RookCount=TestData['ChessGroup']%10000//1000)\n",
        "TestData=TestData.assign(BishopCount=TestData['ChessGroup']%1000//100)\n",
        "TestData=TestData.assign(KnightCount=TestData['ChessGroup']%100//10)\n",
        "TestData=TestData.assign(PawnCount=TestData['ChessGroup']%10//1)\n",
        "\n",
        "print(type(TestData))"
      ],
      "metadata": {
        "colab": {
          "base_uri": "https://localhost:8080/"
        },
        "id": "9Xe89T2hYy-X",
        "outputId": "132892b3-c3e1-4745-d84e-59f5b97e5c3d"
      },
      "execution_count": 159,
      "outputs": [
        {
          "output_type": "stream",
          "name": "stdout",
          "text": [
            "<class 'pandas.core.frame.DataFrame'>\n"
          ]
        }
      ]
    },
    {
      "cell_type": "code",
      "source": [
        "TestData.columns"
      ],
      "metadata": {
        "colab": {
          "base_uri": "https://localhost:8080/"
        },
        "id": "gHnxlrKbdQ2m",
        "outputId": "52e7e8a0-7ea6-4223-941b-c4f00bc09019"
      },
      "execution_count": 160,
      "outputs": [
        {
          "output_type": "execute_result",
          "data": {
            "text/plain": [
              "Index(['TestIndex', 'LevelIndex', 'Width', 'Length', 'ChessGroup',\n",
              "       'DataPieceCount', 'TargetStep', 'StepRange(+-)', 'AIBestStep',\n",
              "       'GenerationTime', 'FailureCount', 'SuccessStep', 'PercivedDifficulty',\n",
              "       'KingCount', 'QueenCount', 'RookCount', 'BishopCount', 'KnightCount',\n",
              "       'PawnCount'],\n",
              "      dtype='object')"
            ]
          },
          "metadata": {},
          "execution_count": 160
        }
      ]
    },
    {
      "cell_type": "code",
      "source": [
        "TestData=TestData[['TestIndex', 'LevelIndex', 'Width', 'Length', \n",
        "       'KingCount', 'QueenCount', 'RookCount', 'BishopCount', 'KnightCount', 'PawnCount',\n",
        "       'DataPieceCount', 'TargetStep', 'StepRange(+-)', 'AIBestStep',\n",
        "       'FailureCount', 'SuccessStep', 'PercivedDifficulty']]\n",
        "print(TestData)"
      ],
      "metadata": {
        "colab": {
          "base_uri": "https://localhost:8080/"
        },
        "id": "RoQw53-IccBZ",
        "outputId": "fb6cf7e2-6a2b-41b9-f5e2-78598114bfc0"
      },
      "execution_count": 161,
      "outputs": [
        {
          "output_type": "stream",
          "name": "stdout",
          "text": [
            "    TestIndex  LevelIndex  Width  Length  KingCount  QueenCount  RookCount  \\\n",
            "0           0           2     10      10          0           1          0   \n",
            "1           1          14     10      10          0           0          1   \n",
            "2           2           9     10      10          0           0          0   \n",
            "3           3          16     10      10          0           0          2   \n",
            "4           4          18     10      10          0           0          2   \n",
            "5           5           6     10      10          0           0          0   \n",
            "6           6          17     10      10          0           0          2   \n",
            "7           7           7     10      10          0           0          0   \n",
            "8           8          12     10      10          0           0          1   \n",
            "9           9           5     10      10          0           0          0   \n",
            "10         10           4     10      10          0           0          0   \n",
            "11         11          15     10      10          0           0          1   \n",
            "12         12           0     10      10          0           1          0   \n",
            "13         13          13     10      10          0           0          1   \n",
            "14         14          19     10      10          0           0          2   \n",
            "15         15          10     10      10          0           0          0   \n",
            "16         16           1     10      10          0           1          0   \n",
            "17         17           3     10      10          0           1          0   \n",
            "18         18           8     10      10          0           0          0   \n",
            "19         19          11     10      10          0           0          0   \n",
            "0           0          19     10      10          0           0          2   \n",
            "1           1          18     10      10          0           0          2   \n",
            "2           2           6     10      10          0           0          0   \n",
            "3           3          13     10      10          0           0          1   \n",
            "4           4           4     10      10          0           0          0   \n",
            "5           5           7     10      10          0           0          0   \n",
            "6           6           2     10      10          0           1          0   \n",
            "7           7           9     10      10          0           0          0   \n",
            "8           8          10     10      10          0           0          0   \n",
            "9           9          11     10      10          0           0          0   \n",
            "10         10           5     10      10          0           0          0   \n",
            "11         11          16     10      10          0           0          2   \n",
            "12         12           3     10      10          0           1          0   \n",
            "13         13          12     10      10          0           0          1   \n",
            "14         14           0     10      10          0           1          0   \n",
            "15         15          17     10      10          0           0          2   \n",
            "16         16          15     10      10          0           0          1   \n",
            "17         17           8     10      10          0           0          0   \n",
            "18         18          14     10      10          0           0          1   \n",
            "19         19           1     10      10          0           1          0   \n",
            "\n",
            "    BishopCount  KnightCount  PawnCount  DataPieceCount  TargetStep  \\\n",
            "0             0            2          3              10          35   \n",
            "1             1            0          2              10          35   \n",
            "2             0            1          2              10          25   \n",
            "3             0            0          4              10          15   \n",
            "4             0            0          4              10          35   \n",
            "5             4            0          4              10          35   \n",
            "6             0            0          4              10          25   \n",
            "7             4            0          4              10          45   \n",
            "8             1            0          2              10          15   \n",
            "9             4            0          4              10          25   \n",
            "10            4            0          4              10          15   \n",
            "11            1            0          2              10          45   \n",
            "12            0            2          3              10          15   \n",
            "13            1            0          2              10          25   \n",
            "14            0            0          4              10          45   \n",
            "15            0            1          2              10          35   \n",
            "16            0            2          3              10          25   \n",
            "17            0            2          3              10          45   \n",
            "18            0            1          2              10          15   \n",
            "19            0            1          2              10          45   \n",
            "0             0            0          4              10          45   \n",
            "1             0            0          4              10          35   \n",
            "2             4            0          4              10          35   \n",
            "3             1            0          2              10          25   \n",
            "4             4            0          4              10          15   \n",
            "5             4            0          4              10          45   \n",
            "6             0            2          3              10          35   \n",
            "7             0            1          2              10          25   \n",
            "8             0            1          2              10          35   \n",
            "9             0            1          2              10          45   \n",
            "10            4            0          4              10          25   \n",
            "11            0            0          4              10          15   \n",
            "12            0            2          3              10          45   \n",
            "13            1            0          2              10          15   \n",
            "14            0            2          3              10          15   \n",
            "15            0            0          4              10          25   \n",
            "16            1            0          2              10          45   \n",
            "17            0            1          2              10          15   \n",
            "18            1            0          2              10          35   \n",
            "19            0            2          3              10          25   \n",
            "\n",
            "    StepRange(+-)  AIBestStep  FailureCount  SuccessStep  PercivedDifficulty  \n",
            "0               5          36            10           29                   7  \n",
            "1               5          33             1           29                   3  \n",
            "2               5          29             0           26                   1  \n",
            "3               5          18             1           21                   2  \n",
            "4               5          32             1           30                   3  \n",
            "5               5          32            10           38                   6  \n",
            "6               5          27             1           33                   2  \n",
            "7               5          41            30           46                   7  \n",
            "8               5          19             3           17                   1  \n",
            "9               5          27            46           39                   7  \n",
            "10              5          18             0           15                   2  \n",
            "11              5          41             7           33                   4  \n",
            "12              5          15             9           17                   3  \n",
            "13              5          26             0           24                   1  \n",
            "14              5          41             5           32                   3  \n",
            "15              5          33             0           29                   1  \n",
            "16              5          22            11           22                   4  \n",
            "17              5          42            25           35                   7  \n",
            "18              5          19             3           21                   1  \n",
            "19              5          41             0           30                   2  \n",
            "0               5          41             0           57                   4  \n",
            "1               5          32             1           30                   4  \n",
            "2               5          32             1           36                   3  \n",
            "3               5          26             0           23                   3  \n",
            "4               5          18             2           23                   4  \n",
            "5               5          41             4           43                   5  \n",
            "6               5          36             3           51                   6  \n",
            "7               5          29             0           43                   2  \n",
            "8               5          33             0           37                   2  \n",
            "9               5          41             0           30                   2  \n",
            "10              5          27            14           62                   6  \n",
            "11              5          18             0           27                   3  \n",
            "12              5          42             8           33                   5  \n",
            "13              5          19             0           30                   2  \n",
            "14              5          15             0           17                   2  \n",
            "15              5          27             0           47                   2  \n",
            "16              5          41             3           37                   3  \n",
            "17              5          19             0           19                   1  \n",
            "18              5          33             1           45                   3  \n",
            "19              5          22             1           61                   3  \n"
          ]
        }
      ]
    },
    {
      "cell_type": "code",
      "source": [
        "scaler = MinMaxScaler()\n",
        "\n",
        "X=TestData[['AIBestStep','KingCount', 'QueenCount', 'RookCount', 'BishopCount', 'KnightCount', 'PawnCount']]\n",
        "X['AIBestStep']=scaler.fit_transform(X[['AIBestStep']])\n",
        "X=X.to_numpy()\n",
        "y=TestData[['PercivedDifficulty']]\n",
        "y['PercivedDifficulty']=scaler.fit_transform(y[['PercivedDifficulty']])\n",
        "y=y.to_numpy()\n",
        "\n",
        "print(X)\n",
        "print(y)\n",
        "\n",
        "X_train, X_rem, y_train, y_rem = train_test_split(X,y,test_size=0.5,random_state=42)\n",
        "X_val, X_test, y_val, y_test = train_test_split(X_rem,y_rem,test_size=0.2,random_state=42)"
      ],
      "metadata": {
        "colab": {
          "base_uri": "https://localhost:8080/"
        },
        "id": "_gsXPKp_Xpk1",
        "outputId": "07c40b76-2f0b-4881-e861-e93247cf6994"
      },
      "execution_count": 162,
      "outputs": [
        {
          "output_type": "stream",
          "name": "stdout",
          "text": [
            "[[0.77777778 0.         1.         0.         0.         2.\n",
            "  3.        ]\n",
            " [0.66666667 0.         0.         1.         1.         0.\n",
            "  2.        ]\n",
            " [0.51851852 0.         0.         0.         0.         1.\n",
            "  2.        ]\n",
            " [0.11111111 0.         0.         2.         0.         0.\n",
            "  4.        ]\n",
            " [0.62962963 0.         0.         2.         0.         0.\n",
            "  4.        ]\n",
            " [0.62962963 0.         0.         0.         4.         0.\n",
            "  4.        ]\n",
            " [0.44444444 0.         0.         2.         0.         0.\n",
            "  4.        ]\n",
            " [0.96296296 0.         0.         0.         4.         0.\n",
            "  4.        ]\n",
            " [0.14814815 0.         0.         1.         1.         0.\n",
            "  2.        ]\n",
            " [0.44444444 0.         0.         0.         4.         0.\n",
            "  4.        ]\n",
            " [0.11111111 0.         0.         0.         4.         0.\n",
            "  4.        ]\n",
            " [0.96296296 0.         0.         1.         1.         0.\n",
            "  2.        ]\n",
            " [0.         0.         1.         0.         0.         2.\n",
            "  3.        ]\n",
            " [0.40740741 0.         0.         1.         1.         0.\n",
            "  2.        ]\n",
            " [0.96296296 0.         0.         2.         0.         0.\n",
            "  4.        ]\n",
            " [0.66666667 0.         0.         0.         0.         1.\n",
            "  2.        ]\n",
            " [0.25925926 0.         1.         0.         0.         2.\n",
            "  3.        ]\n",
            " [1.         0.         1.         0.         0.         2.\n",
            "  3.        ]\n",
            " [0.14814815 0.         0.         0.         0.         1.\n",
            "  2.        ]\n",
            " [0.96296296 0.         0.         0.         0.         1.\n",
            "  2.        ]\n",
            " [0.96296296 0.         0.         2.         0.         0.\n",
            "  4.        ]\n",
            " [0.62962963 0.         0.         2.         0.         0.\n",
            "  4.        ]\n",
            " [0.62962963 0.         0.         0.         4.         0.\n",
            "  4.        ]\n",
            " [0.40740741 0.         0.         1.         1.         0.\n",
            "  2.        ]\n",
            " [0.11111111 0.         0.         0.         4.         0.\n",
            "  4.        ]\n",
            " [0.96296296 0.         0.         0.         4.         0.\n",
            "  4.        ]\n",
            " [0.77777778 0.         1.         0.         0.         2.\n",
            "  3.        ]\n",
            " [0.51851852 0.         0.         0.         0.         1.\n",
            "  2.        ]\n",
            " [0.66666667 0.         0.         0.         0.         1.\n",
            "  2.        ]\n",
            " [0.96296296 0.         0.         0.         0.         1.\n",
            "  2.        ]\n",
            " [0.44444444 0.         0.         0.         4.         0.\n",
            "  4.        ]\n",
            " [0.11111111 0.         0.         2.         0.         0.\n",
            "  4.        ]\n",
            " [1.         0.         1.         0.         0.         2.\n",
            "  3.        ]\n",
            " [0.14814815 0.         0.         1.         1.         0.\n",
            "  2.        ]\n",
            " [0.         0.         1.         0.         0.         2.\n",
            "  3.        ]\n",
            " [0.44444444 0.         0.         2.         0.         0.\n",
            "  4.        ]\n",
            " [0.96296296 0.         0.         1.         1.         0.\n",
            "  2.        ]\n",
            " [0.14814815 0.         0.         0.         0.         1.\n",
            "  2.        ]\n",
            " [0.66666667 0.         0.         1.         1.         0.\n",
            "  2.        ]\n",
            " [0.25925926 0.         1.         0.         0.         2.\n",
            "  3.        ]]\n",
            "[[1.        ]\n",
            " [0.33333333]\n",
            " [0.        ]\n",
            " [0.16666667]\n",
            " [0.33333333]\n",
            " [0.83333333]\n",
            " [0.16666667]\n",
            " [1.        ]\n",
            " [0.        ]\n",
            " [1.        ]\n",
            " [0.16666667]\n",
            " [0.5       ]\n",
            " [0.33333333]\n",
            " [0.        ]\n",
            " [0.33333333]\n",
            " [0.        ]\n",
            " [0.5       ]\n",
            " [1.        ]\n",
            " [0.        ]\n",
            " [0.16666667]\n",
            " [0.5       ]\n",
            " [0.5       ]\n",
            " [0.33333333]\n",
            " [0.33333333]\n",
            " [0.5       ]\n",
            " [0.66666667]\n",
            " [0.83333333]\n",
            " [0.16666667]\n",
            " [0.16666667]\n",
            " [0.16666667]\n",
            " [0.83333333]\n",
            " [0.33333333]\n",
            " [0.66666667]\n",
            " [0.16666667]\n",
            " [0.16666667]\n",
            " [0.16666667]\n",
            " [0.33333333]\n",
            " [0.        ]\n",
            " [0.33333333]\n",
            " [0.33333333]]\n"
          ]
        },
        {
          "output_type": "stream",
          "name": "stderr",
          "text": [
            "<ipython-input-162-0c21a85b5513>:4: SettingWithCopyWarning: \n",
            "A value is trying to be set on a copy of a slice from a DataFrame.\n",
            "Try using .loc[row_indexer,col_indexer] = value instead\n",
            "\n",
            "See the caveats in the documentation: https://pandas.pydata.org/pandas-docs/stable/user_guide/indexing.html#returning-a-view-versus-a-copy\n",
            "  X['AIBestStep']=scaler.fit_transform(X[['AIBestStep']])\n",
            "<ipython-input-162-0c21a85b5513>:7: SettingWithCopyWarning: \n",
            "A value is trying to be set on a copy of a slice from a DataFrame.\n",
            "Try using .loc[row_indexer,col_indexer] = value instead\n",
            "\n",
            "See the caveats in the documentation: https://pandas.pydata.org/pandas-docs/stable/user_guide/indexing.html#returning-a-view-versus-a-copy\n",
            "  y['PercivedDifficulty']=scaler.fit_transform(y[['PercivedDifficulty']])\n"
          ]
        }
      ]
    },
    {
      "cell_type": "code",
      "source": [
        "tr_errors = []\n",
        "val_errors = []\n",
        "#Polynomial Regression\n",
        "plt.figure(figsize=(8, 20))\n",
        "for degree in range(1,10):\n",
        "  poly = PolynomialFeatures(degree=degree)\n",
        "  X_train_poly = poly.fit_transform(X_train)\n",
        "  regr=LinearRegression(fit_intercept=False)\n",
        "  regr.fit(X_train_poly,y_train)\n",
        "  y_pred_train = regr.predict(X_train_poly)\n",
        "  tr_error = mean_squared_error(y_train, y_pred_train)\n",
        "  X_val_poly = poly.fit_transform(X_val)\n",
        "  y_pred_val = regr.predict(X_val_poly)\n",
        "  val_error = mean_squared_error(y_val, y_pred_val)\n",
        "  tr_errors.append(tr_error)\n",
        "  val_errors.append(val_error)\n",
        "\n",
        "print(tr_errors)\n",
        "print(val_errors)"
      ],
      "metadata": {
        "colab": {
          "base_uri": "https://localhost:8080/",
          "height": 91
        },
        "id": "sB7fp2cqh9DN",
        "outputId": "8c0506b4-c9a7-4faa-f233-ce6911192bf9"
      },
      "execution_count": 163,
      "outputs": [
        {
          "output_type": "stream",
          "name": "stdout",
          "text": [
            "[0.021214316675955167, 0.01609268393835535, 0.01551334654755079, 0.0076388888888888895, 0.007638888888888888, 0.007638888888888888, 0.007638888888888888, 0.007638888888888888, 0.0076388888888888895]\n",
            "[0.044316636843268524, 0.050910581286438356, 0.13498782006501223, 0.42990356295865223, 0.7052393834849837, 1.3202159874813222, 2.67473943832137, 5.673248622012282, 12.350932148064919]\n"
          ]
        },
        {
          "output_type": "display_data",
          "data": {
            "text/plain": [
              "<Figure size 800x2000 with 0 Axes>"
            ]
          },
          "metadata": {}
        }
      ]
    },
    {
      "cell_type": "code",
      "source": [
        "plt.figure(figsize=(8, 6))\n",
        "plt.plot(range(1,10), tr_errors, label = 'Train')\n",
        "plt.plot(range(1,10), val_errors,label = 'Valid')\n",
        "plt.legend(loc = 'upper left')\n",
        "plt.xlabel('Degree')\n",
        "plt.ylabel('Loss')\n",
        "plt.title('Train vs validation loss')\n",
        "plt.show()"
      ],
      "metadata": {
        "colab": {
          "base_uri": "https://localhost:8080/",
          "height": 564
        },
        "id": "vFeHuU9vrh0N",
        "outputId": "ccc289b4-87d8-4037-8136-c0350efbd944"
      },
      "execution_count": 164,
      "outputs": [
        {
          "output_type": "display_data",
          "data": {
            "text/plain": [
              "<Figure size 800x600 with 1 Axes>"
            ],
            "image/png": "[encoded data removed]"
          },
          "metadata": {}
        }
      ]
    },
    {
      "cell_type": "code",
      "source": [
        "poly = PolynomialFeatures(degree=1)\n",
        "X_train_poly = poly.fit_transform(X_train)\n",
        "regr.fit(X_train_poly, y_train)\n",
        "X_test_poly = poly.fit_transform(X_test)\n",
        "y_pred_test = regr.predict(X_test_poly)\n",
        "test_error = mean_squared_error(y_test, y_pred_test)\n",
        "print(test_error)"
      ],
      "metadata": {
        "colab": {
          "base_uri": "https://localhost:8080/"
        },
        "id": "sesCsm0trm74",
        "outputId": "92d8c0ab-1070-428a-ff88-2364f86432b6"
      },
      "execution_count": 165,
      "outputs": [
        {
          "output_type": "stream",
          "name": "stdout",
          "text": [
            "0.01112732558153134\n"
          ]
        }
      ]
    },
    {
      "cell_type": "code",
      "source": [
        "y=TestData[['FailureCount']]\n",
        "y['FailureCount']=scaler.fit_transform(y[['FailureCount']])\n",
        "y=y.to_numpy()\n",
        "\n",
        "print(y)\n",
        "\n",
        "X_train, X_rem, y_train, y_rem = train_test_split(X,y,test_size=0.5,random_state=42)\n",
        "X_val, X_test, y_val, y_test = train_test_split(X_rem,y_rem,test_size=0.2,random_state=42)\n",
        "\n",
        "tr_errors = []\n",
        "val_errors = []\n",
        "#Polynomial Regression\n",
        "plt.figure(figsize=(8, 20))\n",
        "for degree in range(1,10):\n",
        "  poly = PolynomialFeatures(degree=degree)\n",
        "  X_train_poly = poly.fit_transform(X_train)\n",
        "  regr=LinearRegression(fit_intercept=False)\n",
        "  regr.fit(X_train_poly,y_train)\n",
        "  y_pred_train = regr.predict(X_train_poly)\n",
        "  tr_error = mean_squared_error(y_train, y_pred_train)\n",
        "  X_val_poly = poly.fit_transform(X_val)\n",
        "  y_pred_val = regr.predict(X_val_poly)\n",
        "  val_error = mean_squared_error(y_val, y_pred_val)\n",
        "  tr_errors.append(tr_error)\n",
        "  val_errors.append(val_error)\n",
        "\n",
        "print(tr_errors)\n",
        "print(val_errors)\n",
        "\n",
        "plt.figure(figsize=(8, 6))\n",
        "plt.plot(range(1,10), tr_errors, label = 'Train')\n",
        "plt.plot(range(1,10), val_errors,label = 'Valid')\n",
        "plt.legend(loc = 'upper left')\n",
        "plt.xlabel('Degree')\n",
        "plt.ylabel('Loss')\n",
        "plt.title('Train vs validation loss')\n",
        "plt.show()"
      ],
      "metadata": {
        "colab": {
          "base_uri": "https://localhost:8080/",
          "height": 1000
        },
        "id": "wg8V_4oEtiSg",
        "outputId": "ca544193-dfc4-40e9-928e-1c6ea41a00f1"
      },
      "execution_count": 166,
      "outputs": [
        {
          "output_type": "stream",
          "name": "stdout",
          "text": [
            "[[0.2173913 ]\n",
            " [0.02173913]\n",
            " [0.        ]\n",
            " [0.02173913]\n",
            " [0.02173913]\n",
            " [0.2173913 ]\n",
            " [0.02173913]\n",
            " [0.65217391]\n",
            " [0.06521739]\n",
            " [1.        ]\n",
            " [0.        ]\n",
            " [0.15217391]\n",
            " [0.19565217]\n",
            " [0.        ]\n",
            " [0.10869565]\n",
            " [0.        ]\n",
            " [0.23913043]\n",
            " [0.54347826]\n",
            " [0.06521739]\n",
            " [0.        ]\n",
            " [0.        ]\n",
            " [0.02173913]\n",
            " [0.02173913]\n",
            " [0.        ]\n",
            " [0.04347826]\n",
            " [0.08695652]\n",
            " [0.06521739]\n",
            " [0.        ]\n",
            " [0.        ]\n",
            " [0.        ]\n",
            " [0.30434783]\n",
            " [0.        ]\n",
            " [0.17391304]\n",
            " [0.        ]\n",
            " [0.        ]\n",
            " [0.        ]\n",
            " [0.06521739]\n",
            " [0.        ]\n",
            " [0.02173913]\n",
            " [0.02173913]]\n"
          ]
        },
        {
          "output_type": "stream",
          "name": "stderr",
          "text": [
            "<ipython-input-166-d6d67e60501a>:2: SettingWithCopyWarning: \n",
            "A value is trying to be set on a copy of a slice from a DataFrame.\n",
            "Try using .loc[row_indexer,col_indexer] = value instead\n",
            "\n",
            "See the caveats in the documentation: https://pandas.pydata.org/pandas-docs/stable/user_guide/indexing.html#returning-a-view-versus-a-copy\n",
            "  y['FailureCount']=scaler.fit_transform(y[['FailureCount']])\n"
          ]
        },
        {
          "output_type": "stream",
          "name": "stdout",
          "text": [
            "[0.01234690215328169, 0.005487882092660298, 0.0034169145542896793, 0.001441398865784499, 0.0014413988657844992, 0.0014413988657844992, 0.0014413988657844992, 0.0014413988657844992, 0.001441398865784499]\n",
            "[0.055134086137350526, 0.09055803106137049, 0.22989295324573, 0.11757674793121445, 0.21509167726241796, 0.4121357151440477, 0.833207524018287, 1.7576684039700767, 3.80961044886422]\n"
          ]
        },
        {
          "output_type": "display_data",
          "data": {
            "text/plain": [
              "<Figure size 800x2000 with 0 Axes>"
            ]
          },
          "metadata": {}
        },
        {
          "output_type": "display_data",
          "data": {
            "text/plain": [
              "<Figure size 800x600 with 1 Axes>"
            ],
            "image/png": "[encoded data removed]"
          },
          "metadata": {}
        }
      ]
    },
    {
      "cell_type": "code",
      "source": [
        "poly = PolynomialFeatures(degree=1)\n",
        "X_train_poly = poly.fit_transform(X_train)\n",
        "regr.fit(X_train_poly, y_train)\n",
        "X_test_poly = poly.fit_transform(X_test)\n",
        "y_pred_test = regr.predict(X_test_poly)\n",
        "test_error = mean_squared_error(y_test, y_pred_test)\n",
        "print(test_error)"
      ],
      "metadata": {
        "colab": {
          "base_uri": "https://localhost:8080/"
        },
        "id": "wCwhczpxtrl-",
        "outputId": "06873c47-f90c-4d65-b066-7a516b6d3812"
      },
      "execution_count": 167,
      "outputs": [
        {
          "output_type": "stream",
          "name": "stdout",
          "text": [
            "0.020640975309290804\n"
          ]
        }
      ]
    },
    {
      "cell_type": "markdown",
      "source": [
        "# Correlation Analysis"
      ],
      "metadata": {
        "id": "teSt7bb91Tcx"
      }
    },
    {
      "cell_type": "code",
      "source": [
        "#Corr Analysis\n",
        "import seaborn as sns"
      ],
      "metadata": {
        "id": "lbhTlDy60pKA"
      },
      "execution_count": 168,
      "outputs": []
    },
    {
      "cell_type": "code",
      "source": [
        "TestData=pd.concat([data1.rename(columns={'SuccessStep': 'Player1SuccessStep'})[['AIBestStep','Player1SuccessStep']],\n",
        "                    data2.rename(columns={'SuccessStep': 'Player2SuccessStep'})[['Player2SuccessStep']]],\n",
        "                   axis=1)\n",
        "\n",
        "print(TestData)\n",
        "\n",
        "for i in range(0,TestData.shape[1]):\n",
        "  TestData.iloc[:, i]=scaler.fit_transform(TestData.iloc[:, [i]])\n",
        "\n",
        "print(TestData)\n",
        "\n",
        "corr_matrix = TestData.corr()\n",
        "sns.heatmap(corr_matrix, cmap='coolwarm', annot=True)"
      ],
      "metadata": {
        "colab": {
          "base_uri": "https://localhost:8080/",
          "height": 1000
        },
        "id": "m05H7QcouEG4",
        "outputId": "7a8cdfe4-5d60-46e3-99ee-2d4c6e6a385e"
      },
      "execution_count": 169,
      "outputs": [
        {
          "output_type": "stream",
          "name": "stdout",
          "text": [
            "    AIBestStep  Player1SuccessStep  Player2SuccessStep\n",
            "0           36                  29                  57\n",
            "1           33                  29                  30\n",
            "2           29                  26                  36\n",
            "3           18                  21                  23\n",
            "4           32                  30                  23\n",
            "5           32                  38                  43\n",
            "6           27                  33                  51\n",
            "7           41                  46                  43\n",
            "8           19                  17                  37\n",
            "9           27                  39                  30\n",
            "10          18                  15                  62\n",
            "11          41                  33                  27\n",
            "12          15                  17                  33\n",
            "13          26                  24                  30\n",
            "14          41                  32                  17\n",
            "15          33                  29                  47\n",
            "16          22                  22                  37\n",
            "17          42                  35                  19\n",
            "18          19                  21                  45\n",
            "19          41                  30                  61\n",
            "    AIBestStep  Player1SuccessStep  Player2SuccessStep\n",
            "0     0.777778            0.451613            0.888889\n",
            "1     0.666667            0.451613            0.288889\n",
            "2     0.518519            0.354839            0.422222\n",
            "3     0.111111            0.193548            0.133333\n",
            "4     0.629630            0.483871            0.133333\n",
            "5     0.629630            0.741935            0.577778\n",
            "6     0.444444            0.580645            0.755556\n",
            "7     0.962963            1.000000            0.577778\n",
            "8     0.148148            0.064516            0.444444\n",
            "9     0.444444            0.774194            0.288889\n",
            "10    0.111111            0.000000            1.000000\n",
            "11    0.962963            0.580645            0.222222\n",
            "12    0.000000            0.064516            0.355556\n",
            "13    0.407407            0.290323            0.288889\n",
            "14    0.962963            0.548387            0.000000\n",
            "15    0.666667            0.451613            0.666667\n",
            "16    0.259259            0.225806            0.444444\n",
            "17    1.000000            0.645161            0.044444\n",
            "18    0.148148            0.193548            0.622222\n",
            "19    0.962963            0.483871            0.977778\n"
          ]
        },
        {
          "output_type": "execute_result",
          "data": {
            "text/plain": [
              "<Axes: >"
            ]
          },
          "metadata": {},
          "execution_count": 169
        },
        {
          "output_type": "display_data",
          "data": {
            "text/plain": [
              "<Figure size 640x480 with 2 Axes>"
            ],
            "image/png": "[encoded data removed]"
          },
          "metadata": {}
        }
      ]
    },
    {
      "cell_type": "code",
      "source": [
        "TestData=pd.concat([data1.rename(columns={'PercivedDifficulty': 'Player1PercivedDifficulty'})[['AIBestStep','Player1PercivedDifficulty']],\n",
        "                    data2.rename(columns={'PercivedDifficulty': 'Player2PercivedDifficulty'})[['Player2PercivedDifficulty']]],\n",
        "                   axis=1)\n",
        "\n",
        "print(TestData)\n",
        "\n",
        "for i in range(0,TestData.shape[1]):\n",
        "  TestData.iloc[:, i]=scaler.fit_transform(TestData.iloc[:, [i]])\n",
        "\n",
        "print(TestData)\n",
        "\n",
        "corr_matrix = TestData.corr()\n",
        "sns.heatmap(corr_matrix, cmap='coolwarm', annot=True)"
      ],
      "metadata": {
        "colab": {
          "base_uri": "https://localhost:8080/",
          "height": 1000
        },
        "id": "VlkzYNQG0TyH",
        "outputId": "645ab1bf-9df0-4fff-f10b-aa8b2dfa1d9c"
      },
      "execution_count": 172,
      "outputs": [
        {
          "output_type": "stream",
          "name": "stdout",
          "text": [
            "    AIBestStep  Player1PercivedDifficulty  Player2PercivedDifficulty\n",
            "0           36                          7                          4\n",
            "1           33                          3                          4\n",
            "2           29                          1                          3\n",
            "3           18                          2                          3\n",
            "4           32                          3                          4\n",
            "5           32                          6                          5\n",
            "6           27                          2                          6\n",
            "7           41                          7                          2\n",
            "8           19                          1                          2\n",
            "9           27                          7                          2\n",
            "10          18                          2                          6\n",
            "11          41                          4                          3\n",
            "12          15                          3                          5\n",
            "13          26                          1                          2\n",
            "14          41                          3                          2\n",
            "15          33                          1                          2\n",
            "16          22                          4                          3\n",
            "17          42                          7                          1\n",
            "18          19                          1                          3\n",
            "19          41                          2                          3\n",
            "    AIBestStep  Player1PercivedDifficulty  Player2PercivedDifficulty\n",
            "0     0.777778                   1.000000                        0.6\n",
            "1     0.666667                   0.333333                        0.6\n",
            "2     0.518519                   0.000000                        0.4\n",
            "3     0.111111                   0.166667                        0.4\n",
            "4     0.629630                   0.333333                        0.6\n",
            "5     0.629630                   0.833333                        0.8\n",
            "6     0.444444                   0.166667                        1.0\n",
            "7     0.962963                   1.000000                        0.2\n",
            "8     0.148148                   0.000000                        0.2\n",
            "9     0.444444                   1.000000                        0.2\n",
            "10    0.111111                   0.166667                        1.0\n",
            "11    0.962963                   0.500000                        0.4\n",
            "12    0.000000                   0.333333                        0.8\n",
            "13    0.407407                   0.000000                        0.2\n",
            "14    0.962963                   0.333333                        0.2\n",
            "15    0.666667                   0.000000                        0.2\n",
            "16    0.259259                   0.500000                        0.4\n",
            "17    1.000000                   1.000000                        0.0\n",
            "18    0.148148                   0.000000                        0.4\n",
            "19    0.962963                   0.166667                        0.4\n"
          ]
        },
        {
          "output_type": "execute_result",
          "data": {
            "text/plain": [
              "<Axes: >"
            ]
          },
          "metadata": {},
          "execution_count": 172
        },
        {
          "output_type": "display_data",
          "data": {
            "text/plain": [
              "<Figure size 640x480 with 2 Axes>"
            ],
            "image/png": "[encoded data removed]"
          },
          "metadata": {}
        }
      ]
    },
    {
      "cell_type": "markdown",
      "source": [],
      "metadata": {
        "id": "UPCu94XI0erj"
      }
    }
  ]
}